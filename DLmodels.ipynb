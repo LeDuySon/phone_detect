{
 "cells": [
  {
   "cell_type": "code",
   "execution_count": 1,
   "metadata": {},
   "outputs": [
    {
     "name": "stderr",
     "output_type": "stream",
     "text": [
      "Using TensorFlow backend.\n"
     ]
    }
   ],
   "source": [
    "import keras\n",
    "from keras.layers import MaxPooling2D, Conv2D, Dense, Flatten, Dropout, Activation\n",
    "from keras.models import Sequential\n",
    "import cv2\n",
    "import numpy as np\n",
    "import os"
   ]
  },
  {
   "cell_type": "code",
   "execution_count": 2,
   "metadata": {},
   "outputs": [],
   "source": [
    "INPUT_SHAPE = (128, 128)\n",
    "POS_PATH = \"new_pos\"\n",
    "NEG_PATH = \"cropped_not_using_phone\"\n",
    "\n",
    "def img_process(image):\n",
    "    img = cv2.imread(image)\n",
    "    img = cv2.resize(img, INPUT_SHAPE)\n",
    "    img = cv2.cvtColor(img, cv2.COLOR_BGR2RGB)\n",
    "    img_n = np.expand_dims(img, axis = -1)\n",
    "    return img_n\n",
    "\n",
    "def load_dataset(path, size = 128):\n",
    "    img_list = os.listdir(path)\n",
    "    X = []\n",
    "    for index, img in enumerate(img_list):\n",
    "        img_l = os.path.join(path, img)\n",
    "        image = cv2.imread(img_l)\n",
    "        image = cv2.resize(image, (size, size))\n",
    "        image = cv2.cvtColor(image, cv2.COLOR_BGR2RGB)\n",
    "        X.append(image)\n",
    "    return np.array(X, dtype = \"float32\")\n"
   ]
  },
  {
   "cell_type": "code",
   "execution_count": 3,
   "metadata": {},
   "outputs": [
    {
     "name": "stdout",
     "output_type": "stream",
     "text": [
      "97\n",
      "92\n"
     ]
    }
   ],
   "source": [
    "X1 = load_dataset(POS_PATH)\n",
    "print(X1.shape[0])\n",
    "X2 = load_dataset(NEG_PATH)\n",
    "print(X2.shape[0])\n",
    "y1 = np.ones((X1.shape[0]))\n",
    "y2 = np.zeros((X2.shape[0]))\n",
    "X = np.vstack([X1, X2])\n",
    "X /= 255\n",
    "y = np.hstack([y1, y2])"
   ]
  },
  {
   "cell_type": "code",
   "execution_count": 4,
   "metadata": {},
   "outputs": [],
   "source": [
    "INPUT_SHAPE = (128, 128, 3)\n",
    "model = Sequential()\n",
    "model.add(Conv2D(32, (3,3), padding = \"same\", input_shape = INPUT_SHAPE))\n",
    "model.add(Activation('relu'))\n",
    "model.add(Conv2D(32, (3, 3)))\n",
    "model.add(Activation('relu'))\n",
    "model.add(MaxPooling2D(pool_size=(2, 2)))\n",
    "\n",
    "model.add(Conv2D(64, (3, 3), padding='same'))\n",
    "model.add(Activation('relu'))\n",
    "model.add(Conv2D(64, (3, 3)))\n",
    "model.add(Activation('relu'))\n",
    "model.add(MaxPooling2D(pool_size=(2, 2)))\n",
    "\n",
    "model.add(Flatten())\n",
    "model.add(Dense(512))\n",
    "model.add(Activation('relu'))\n",
    "model.add(Dense(1))\n",
    "model.add(Activation('sigmoid'))\n",
    "\n",
    "optimizer = keras.optimizers.RMSprop(learning_rate=0.001)\n",
    "\n",
    "opt = keras.optimizers.RMSprop(learning_rate=0.1)\n",
    "model.compile(loss = \"binary_crossentropy\", optimizer = opt, metrics = [\"accuracy\"])"
   ]
  },
  {
   "cell_type": "code",
   "execution_count": 5,
   "metadata": {},
   "outputs": [
    {
     "name": "stdout",
     "output_type": "stream",
     "text": [
      "Model: \"sequential_1\"\n",
      "_________________________________________________________________\n",
      "Layer (type)                 Output Shape              Param #   \n",
      "=================================================================\n",
      "conv2d_1 (Conv2D)            (None, 128, 128, 32)      896       \n",
      "_________________________________________________________________\n",
      "activation_1 (Activation)    (None, 128, 128, 32)      0         \n",
      "_________________________________________________________________\n",
      "conv2d_2 (Conv2D)            (None, 126, 126, 32)      9248      \n",
      "_________________________________________________________________\n",
      "activation_2 (Activation)    (None, 126, 126, 32)      0         \n",
      "_________________________________________________________________\n",
      "max_pooling2d_1 (MaxPooling2 (None, 63, 63, 32)        0         \n",
      "_________________________________________________________________\n",
      "conv2d_3 (Conv2D)            (None, 63, 63, 64)        18496     \n",
      "_________________________________________________________________\n",
      "activation_3 (Activation)    (None, 63, 63, 64)        0         \n",
      "_________________________________________________________________\n",
      "conv2d_4 (Conv2D)            (None, 61, 61, 64)        36928     \n",
      "_________________________________________________________________\n",
      "activation_4 (Activation)    (None, 61, 61, 64)        0         \n",
      "_________________________________________________________________\n",
      "max_pooling2d_2 (MaxPooling2 (None, 30, 30, 64)        0         \n",
      "_________________________________________________________________\n",
      "flatten_1 (Flatten)          (None, 57600)             0         \n",
      "_________________________________________________________________\n",
      "dense_1 (Dense)              (None, 512)               29491712  \n",
      "_________________________________________________________________\n",
      "activation_5 (Activation)    (None, 512)               0         \n",
      "_________________________________________________________________\n",
      "dense_2 (Dense)              (None, 1)                 513       \n",
      "_________________________________________________________________\n",
      "activation_6 (Activation)    (None, 1)                 0         \n",
      "=================================================================\n",
      "Total params: 29,557,793\n",
      "Trainable params: 29,557,793\n",
      "Non-trainable params: 0\n",
      "_________________________________________________________________\n"
     ]
    }
   ],
   "source": [
    "model.summary()"
   ]
  },
  {
   "cell_type": "code",
   "execution_count": 6,
   "metadata": {},
   "outputs": [
    {
     "data": {
      "text/plain": [
       "(189, 128, 128, 3)"
      ]
     },
     "execution_count": 6,
     "metadata": {},
     "output_type": "execute_result"
    }
   ],
   "source": [
    "from sklearn.model_selection import train_test_split\n",
    "idx = np.arange(y.shape[0])\n",
    "np.random.seed(0)\n",
    "np.random.shuffle(idx)\n",
    "X = X[idx]\n",
    "y = y[idx]\n",
    "X.shape"
   ]
  },
  {
   "cell_type": "code",
   "execution_count": 7,
   "metadata": {},
   "outputs": [],
   "source": [
    "X_train, X_val, y_train, y_val = train_test_split(X, y, test_size = 0.1, random_state = 26)\n"
   ]
  },
  {
   "cell_type": "code",
   "execution_count": 8,
   "metadata": {},
   "outputs": [],
   "source": [
    "from keras.preprocessing.image import ImageDataGenerator\n",
    "aug = ImageDataGenerator(\n",
    "\trotation_range=10,\n",
    "\tzoom_range=0.15,\n",
    "\twidth_shift_range=0.1,\n",
    "\theight_shift_range=0.1,\n",
    "\tshear_range=0.15,\n",
    "\thorizontal_flip=False,\n",
    "\tvertical_flip=False,\n",
    "\tfill_mode=\"nearest\")"
   ]
  },
  {
   "cell_type": "code",
   "execution_count": 9,
   "metadata": {},
   "outputs": [
    {
     "name": "stdout",
     "output_type": "stream",
     "text": [
      "Epoch 1/50\n",
      "10/10 [==============================] - 17s 2s/step - loss: 189220320.8027 - accuracy: 0.5130 - val_loss: 2055.7864 - val_accuracy: 0.5789\n",
      "Epoch 2/50\n",
      "10/10 [==============================] - 17s 2s/step - loss: 22835.9365 - accuracy: 0.4091 - val_loss: 4.4432 - val_accuracy: 0.4211\n",
      "Epoch 3/50\n",
      "10/10 [==============================] - 15s 2s/step - loss: 34.3962 - accuracy: 0.4805 - val_loss: 0.7366 - val_accuracy: 0.4211\n",
      "Epoch 4/50\n",
      "10/10 [==============================] - 17s 2s/step - loss: 0.6998 - accuracy: 0.4938 - val_loss: 0.6823 - val_accuracy: 0.5789\n",
      "Epoch 5/50\n",
      "10/10 [==============================] - 16s 2s/step - loss: 0.7487 - accuracy: 0.4416 - val_loss: 0.6814 - val_accuracy: 0.5789\n",
      "Epoch 6/50\n",
      "10/10 [==============================] - 16s 2s/step - loss: 2.6737 - accuracy: 0.4797 - val_loss: 0.6944 - val_accuracy: 0.4211\n",
      "Epoch 7/50\n",
      "10/10 [==============================] - 17s 2s/step - loss: 5.6098 - accuracy: 0.4875 - val_loss: 0.8894 - val_accuracy: 0.4211\n",
      "Epoch 8/50\n",
      "10/10 [==============================] - 16s 2s/step - loss: 0.7260 - accuracy: 0.5203 - val_loss: 0.7376 - val_accuracy: 0.4211\n",
      "Epoch 9/50\n",
      "10/10 [==============================] - 15s 2s/step - loss: 0.7437 - accuracy: 0.4610 - val_loss: 0.7079 - val_accuracy: 0.4211\n",
      "Epoch 10/50\n",
      "10/10 [==============================] - 16s 2s/step - loss: 0.9290 - accuracy: 0.4938 - val_loss: 0.7041 - val_accuracy: 0.5789\n",
      "Epoch 11/50\n",
      "10/10 [==============================] - 15s 2s/step - loss: 1.4783 - accuracy: 0.5195 - val_loss: 0.6807 - val_accuracy: 0.5789\n",
      "Epoch 12/50\n",
      "10/10 [==============================] - 16s 2s/step - loss: 0.7143 - accuracy: 0.5260 - val_loss: 0.6853 - val_accuracy: 0.5789\n",
      "Epoch 13/50\n",
      "10/10 [==============================] - 17s 2s/step - loss: 0.7132 - accuracy: 0.4935 - val_loss: 0.7156 - val_accuracy: 0.4211\n",
      "Epoch 14/50\n",
      "10/10 [==============================] - 16s 2s/step - loss: 0.7326 - accuracy: 0.5260 - val_loss: 0.6813 - val_accuracy: 0.5789\n",
      "Epoch 15/50\n",
      "10/10 [==============================] - 16s 2s/step - loss: 0.7007 - accuracy: 0.5390 - val_loss: 0.7145 - val_accuracy: 0.4211\n",
      "Epoch 16/50\n",
      "10/10 [==============================] - 18s 2s/step - loss: 0.7086 - accuracy: 0.5325 - val_loss: 0.6841 - val_accuracy: 0.5789\n",
      "Epoch 17/50\n",
      "10/10 [==============================] - 16s 2s/step - loss: 0.7152 - accuracy: 0.4610 - val_loss: 0.7050 - val_accuracy: 0.4211\n",
      "Epoch 18/50\n",
      "10/10 [==============================] - 18s 2s/step - loss: 0.6997 - accuracy: 0.5125 - val_loss: 0.7113 - val_accuracy: 0.4211\n",
      "Epoch 19/50\n",
      "10/10 [==============================] - 20s 2s/step - loss: 0.7346 - accuracy: 0.5000 - val_loss: 0.6816 - val_accuracy: 0.5789\n",
      "Epoch 20/50\n",
      "10/10 [==============================] - 17s 2s/step - loss: 0.7017 - accuracy: 0.4740 - val_loss: 0.6918 - val_accuracy: 0.5789\n",
      "Epoch 21/50\n",
      "10/10 [==============================] - 18s 2s/step - loss: 269.4416 - accuracy: 0.5260 - val_loss: 0.6818 - val_accuracy: 0.5789\n",
      "Epoch 22/50\n",
      "10/10 [==============================] - 19s 2s/step - loss: 0.6986 - accuracy: 0.4805 - val_loss: 0.6806 - val_accuracy: 0.5789\n",
      "Epoch 23/50\n",
      "10/10 [==============================] - 20s 2s/step - loss: 0.7016 - accuracy: 0.4740 - val_loss: 0.6944 - val_accuracy: 0.4211\n",
      "Epoch 24/50\n",
      "10/10 [==============================] - 18s 2s/step - loss: 0.7082 - accuracy: 0.5130 - val_loss: 0.6807 - val_accuracy: 0.5789\n",
      "Epoch 25/50\n",
      "10/10 [==============================] - 18s 2s/step - loss: 0.7114 - accuracy: 0.4351 - val_loss: 0.7269 - val_accuracy: 0.4211\n",
      "Epoch 26/50\n",
      "10/10 [==============================] - 17s 2s/step - loss: 21257700.9071 - accuracy: 0.4610 - val_loss: 249356.4630 - val_accuracy: 0.5789\n",
      "Epoch 27/50\n",
      "10/10 [==============================] - 17s 2s/step - loss: 1380354.1178 - accuracy: 0.5063 - val_loss: 7.1503 - val_accuracy: 0.3684\n",
      "Epoch 28/50\n",
      "10/10 [==============================] - 18s 2s/step - loss: 177.6346 - accuracy: 0.4935 - val_loss: 0.7151 - val_accuracy: 0.4211\n",
      "Epoch 29/50\n",
      "10/10 [==============================] - 18s 2s/step - loss: 53.0144 - accuracy: 0.4730 - val_loss: 0.6891 - val_accuracy: 0.5789\n",
      "Epoch 30/50\n",
      "10/10 [==============================] - 20s 2s/step - loss: 6.0201 - accuracy: 0.4500 - val_loss: 0.7095 - val_accuracy: 0.4211\n",
      "Epoch 31/50\n",
      "10/10 [==============================] - 19s 2s/step - loss: 4.8821 - accuracy: 0.4805 - val_loss: 0.7382 - val_accuracy: 0.4211\n",
      "Epoch 32/50\n",
      "10/10 [==============================] - 19s 2s/step - loss: 0.7189 - accuracy: 0.4545 - val_loss: 0.7290 - val_accuracy: 0.4211\n",
      "Epoch 33/50\n",
      "10/10 [==============================] - 17s 2s/step - loss: 0.7077 - accuracy: 0.4935 - val_loss: 0.7112 - val_accuracy: 0.4211\n",
      "Epoch 34/50\n",
      "10/10 [==============================] - 17s 2s/step - loss: 0.7150 - accuracy: 0.4286 - val_loss: 0.6872 - val_accuracy: 0.5789\n",
      "Epoch 35/50\n",
      "10/10 [==============================] - 19s 2s/step - loss: 0.6963 - accuracy: 0.5065 - val_loss: 0.6926 - val_accuracy: 0.5789\n",
      "Epoch 36/50\n",
      "10/10 [==============================] - 18s 2s/step - loss: 0.7072 - accuracy: 0.5325 - val_loss: 0.6876 - val_accuracy: 0.5789\n",
      "Epoch 37/50\n",
      "10/10 [==============================] - 16s 2s/step - loss: 0.7151 - accuracy: 0.4740 - val_loss: 0.6924 - val_accuracy: 0.5789\n",
      "Epoch 38/50\n",
      "10/10 [==============================] - 18s 2s/step - loss: 0.7053 - accuracy: 0.4688 - val_loss: 0.7011 - val_accuracy: 0.4211\n",
      "Epoch 39/50\n",
      "10/10 [==============================] - 17s 2s/step - loss: 0.7052 - accuracy: 0.4610 - val_loss: 0.7204 - val_accuracy: 0.4211\n",
      "Epoch 40/50\n",
      "10/10 [==============================] - 17s 2s/step - loss: 0.7061 - accuracy: 0.4675 - val_loss: 0.7017 - val_accuracy: 0.4211\n",
      "Epoch 41/50\n",
      "10/10 [==============================] - 16s 2s/step - loss: 0.7061 - accuracy: 0.4805 - val_loss: 0.6975 - val_accuracy: 0.4211\n",
      "Epoch 42/50\n",
      "10/10 [==============================] - 17s 2s/step - loss: 0.7001 - accuracy: 0.4870 - val_loss: 0.7043 - val_accuracy: 0.4211\n",
      "Epoch 43/50\n",
      "10/10 [==============================] - 16s 2s/step - loss: 0.7028 - accuracy: 0.4675 - val_loss: 0.6807 - val_accuracy: 0.5789\n",
      "Epoch 44/50\n",
      "10/10 [==============================] - 16s 2s/step - loss: 0.7026 - accuracy: 0.4935 - val_loss: 0.6840 - val_accuracy: 0.5789\n",
      "Epoch 45/50\n",
      "10/10 [==============================] - 15s 2s/step - loss: 0.6954 - accuracy: 0.5325 - val_loss: 0.6814 - val_accuracy: 0.5789\n",
      "Epoch 46/50\n",
      "10/10 [==============================] - 15s 2s/step - loss: 0.7163 - accuracy: 0.4221 - val_loss: 0.6876 - val_accuracy: 0.5789\n",
      "Epoch 47/50\n",
      "10/10 [==============================] - 15s 2s/step - loss: 0.6956 - accuracy: 0.5130 - val_loss: 0.6858 - val_accuracy: 0.5789\n",
      "Epoch 48/50\n",
      "10/10 [==============================] - 16s 2s/step - loss: 0.6889 - accuracy: 0.5500 - val_loss: 0.7314 - val_accuracy: 0.4211\n",
      "Epoch 49/50\n",
      "10/10 [==============================] - 16s 2s/step - loss: 0.7154 - accuracy: 0.3896 - val_loss: 0.6846 - val_accuracy: 0.5789\n",
      "Epoch 50/50\n",
      "10/10 [==============================] - 16s 2s/step - loss: 0.7023 - accuracy: 0.4675 - val_loss: 0.6823 - val_accuracy: 0.5789\n"
     ]
    }
   ],
   "source": [
    "H = model.fit_generator(\n",
    "\taug.flow(X_train, y_train, batch_size=16),\n",
    "\tvalidation_data=(X_val, y_val),\n",
    "\tsteps_per_epoch=X_train.shape[0] // 16,\n",
    "\tepochs= 50,\n",
    "\tverbose=1)"
   ]
  },
  {
   "cell_type": "code",
   "execution_count": null,
   "metadata": {},
   "outputs": [],
   "source": []
  }
 ],
 "metadata": {
  "kernelspec": {
   "display_name": "Python 3",
   "language": "python",
   "name": "python3"
  },
  "language_info": {
   "codemirror_mode": {
    "name": "ipython",
    "version": 3
   },
   "file_extension": ".py",
   "mimetype": "text/x-python",
   "name": "python",
   "nbconvert_exporter": "python",
   "pygments_lexer": "ipython3",
   "version": "3.7.4"
  }
 },
 "nbformat": 4,
 "nbformat_minor": 4
}
